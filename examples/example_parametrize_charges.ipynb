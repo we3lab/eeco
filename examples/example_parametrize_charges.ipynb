{
 "cells": [
  {
   "cell_type": "markdown",
   "metadata": {},
   "source": [
    "## Parametrize Charges example"
   ]
  },
  {
   "cell_type": "markdown",
   "metadata": {},
   "source": [
    "#### Import basic packages"
   ]
  },
  {
   "cell_type": "code",
   "execution_count": null,
   "metadata": {},
   "outputs": [],
   "source": [
    "import os\n",
    "# Gets the absolute path of the current notebook (works reliably if run inside the notebook itself)\n",
    "notebook_path = os.path.abspath(\"\")\n",
    "# Get the parent directory (one level up)\n",
    "parent_dir = os.path.abspath(os.path.join(notebook_path, \"..\"))\n",
    "# Change working directory to the parent directory\n",
    "os.chdir(parent_dir)\n",
    "import numpy as np\n",
    "import pandas as pd\n",
    "import eeco.costs as costs\n",
    "from eeco.costs import (\n",
    "    DEMAND, ENERGY, PEAK, HALF_PEAK, OFF_PEAK, SUPER_OFF_PEAK\n",
    ")\n",
    "# If this fails, run \"pip install -e . \" in the main directory of eeco"
   ]
  },
  {
   "cell_type": "markdown",
   "metadata": {},
   "source": [
    "#### Import a tariff .csv file"
   ]
  },
  {
   "cell_type": "code",
   "execution_count": null,
   "metadata": {},
   "outputs": [],
   "source": [
    "path_to_tariffsheet = \"eeco/eeco/data/tariff.csv\"\n",
    "# path_to_tariffsheet = \"../eeco/tests/data/input/billing_pge.csv\"\n",
    "rate_df = pd.read_csv(path_to_tariffsheet, sep=\",\")\n"
   ]
  },
  {
   "cell_type": "code",
   "execution_count": null,
   "metadata": {},
   "outputs": [],
   "source": [
    "rate_df.head()"
   ]
  },
  {
   "cell_type": "markdown",
   "metadata": {},
   "source": [
    "## Specify charge variants as a list of dictionaries\n",
    "### Each with entries for:\n",
    "- 'percent_change_dict': nested dictionary for charge scaling by period type\n",
    "- 'scale_all_demand': global scaling for all demand charges\n",
    "- 'scale_all_energy': global scaling for all energy charges  \n",
    "- 'shift_peak_hours_before': hours to shift peak window start (must be multiple of 0.25)\n",
    "- 'shift_peak_hours_after': hours to shift peak window end (must be multiple of 0.25)\n",
    "\n",
    "The example below specifies 4 tariff variants as 4 entries in the list"
   ]
  },
  {
   "cell_type": "code",
   "execution_count": null,
   "metadata": {},
   "outputs": [],
   "source": [
    "# Each dictionary specifies a variant. See docstrings for all options.\n",
    "variants = [\n",
    "    # Double peak charges\n",
    "    {\n",
    "        'percent_change_dict': {\n",
    "            DEMAND: {PEAK: 2.0, HALF_PEAK: 2.0, OFF_PEAK: 1.0, SUPER_OFF_PEAK: 1.0},\n",
    "            ENERGY: {PEAK: 2.0, HALF_PEAK: 2.0, OFF_PEAK: 1.0, SUPER_OFF_PEAK: 1.0}\n",
    "        },\n",
    "        'variant_name': 'double_peak_and_half_peak'\n",
    "    },\n",
    "    # Increse peak charges from specific keys\n",
    "    {\n",
    "        \"percent_change_dict\": {\n",
    "            \"electric_demand_peak-summer\": 2.2,\n",
    "            \"electric_demand_half_peak-summer\": 2.2,\n",
    "        },\n",
    "        'variant_name': 'increase_peak_demand_2.2_manual'\n",
    "    },\n",
    "    # Halve peak charges\n",
    "    {\n",
    "        'percent_change_dict': {\n",
    "            DEMAND: {PEAK: 0.5, HALF_PEAK: 0.5, OFF_PEAK: 1.0, SUPER_OFF_PEAK: 1.0},\n",
    "            ENERGY: {PEAK: 0.5, HALF_PEAK: 0.5, OFF_PEAK: 1.0, SUPER_OFF_PEAK: 1.0}\n",
    "        },\n",
    "        'variant_name': 'decrease_peak_and_half_peak'\n",
    "    },\n",
    "    # Increase all demand/energy charges\n",
    "    {\n",
    "        'percent_change_dict': {\n",
    "            DEMAND: 1.15,\n",
    "            ENERGY: 1.15\n",
    "        },\n",
    "        'variant_name': 'increase_all'\n",
    "    },\n",
    "    # Expand the peak window (shift earlier start, later end)\n",
    "    {\n",
    "        'shift_peak_hours_before': -1.5,  # negative = earlier start (must be multiple of 0.25)\n",
    "        'shift_peak_hours_after': 1.5,    # positive = later end (must be multiple of 0.25)\n",
    "        'variant_name': 'expand_peak_window'\n",
    "    }\n",
    "]"
   ]
  },
  {
   "cell_type": "markdown",
   "metadata": {},
   "source": [
    "### Specify date range to generate parametrized tariffs\n"
   ]
  },
  {
   "cell_type": "code",
   "execution_count": null,
   "metadata": {},
   "outputs": [],
   "source": [
    "# 1 week including 07-01 (00:00) through 07-05 (23:45)\n",
    "start_dt = pd.Timestamp('2023-07-01')\n",
    "end_dt = pd.Timestamp('2023-07-05')"
   ]
  },
  {
   "cell_type": "markdown",
   "metadata": {},
   "source": [
    "### Generate new and baseline charge dictionaries"
   ]
  },
  {
   "cell_type": "code",
   "execution_count": null,
   "metadata": {},
   "outputs": [],
   "source": [
    "# Baseline tariff dict\n",
    "base_tariff_dict = costs.get_charge_dict(start_dt=start_dt, end_dt=end_dt, rate_data=rate_df)\n",
    "\n",
    "# Parametrized variants\n",
    "new_tariff_dicts = costs.parametrize_charge_dict(\n",
    "    start_dt=start_dt,\n",
    "    end_dt=end_dt,\n",
    "    rate_data=rate_df,\n",
    "    variants=variants\n",
    ")\n",
    "print(new_tariff_dicts.keys())"
   ]
  },
  {
   "cell_type": "markdown",
   "metadata": {},
   "source": [
    "### Plot the energy and demand charges to visualize the parametrization"
   ]
  },
  {
   "cell_type": "code",
   "execution_count": null,
   "metadata": {},
   "outputs": [],
   "source": [
    "# make sure matplotlib is in your python environment before running this section\n",
    "import matplotlib.pyplot as plt\n",
    "import matplotlib.dates as mdates"
   ]
  },
  {
   "cell_type": "code",
   "execution_count": null,
   "metadata": {},
   "outputs": [],
   "source": [
    "fig, (ax1, ax2) = plt.subplots(1, 2, figsize=(12, 5))\n",
    "colors = plt.cm.jet(np.linspace(0, 1, len(new_tariff_dicts)))\n",
    "colors[0] = (0, 0, 0, 1)\n",
    "\n",
    "max_demand_charge = 0\n",
    "max_energy_charge = 0\n",
    "\n",
    "# Create time index\n",
    "time_index = pd.date_range(start=start_dt, end=end_dt - pd.Timedelta(minutes=15), freq='15min')\n",
    "\n",
    "for (variant_key, tariff_dict), color in zip(new_tariff_dicts.items(), colors):\n",
    "    # Initialize arrays with the correct length\n",
    "    sum_energy_array = np.zeros(len(time_index))\n",
    "    sum_demand_array = np.zeros(len(time_index))\n",
    "    \n",
    "    for charge_key, charge_array in tariff_dict.items():\n",
    "        # Skip scalar values (like customer charges)\n",
    "        if not isinstance(charge_array, np.ndarray):\n",
    "            continue\n",
    "            \n",
    "        # Only process arrays that match our time index length\n",
    "        if len(charge_array) == len(time_index):\n",
    "            if 'electric_energy' in charge_key:\n",
    "                sum_energy_array += charge_array\n",
    "            elif 'electric_demand' in charge_key:\n",
    "                sum_demand_array += charge_array\n",
    "    \n",
    "    if variant_key == 'original':\n",
    "        ax1.plot(time_index, sum_energy_array, color=color, label=variant_key, linewidth=4)\n",
    "        ax2.plot(time_index, sum_demand_array, color=color, linewidth=4)\n",
    "    else:\n",
    "        ax1.plot(time_index, sum_energy_array, color=color, label=variant_key)\n",
    "        ax2.plot(time_index, sum_demand_array, color=color)\n",
    "   \n",
    "    max_demand_charge = max(max_demand_charge, sum_demand_array.max())\n",
    "    max_energy_charge = max(max_energy_charge, sum_energy_array.max())\n",
    "\n",
    "# Format x-axis\n",
    "for ax in [ax1, ax2]:\n",
    "    ax.xaxis.set_major_locator(mdates.DayLocator())\n",
    "    ax.xaxis.set_major_formatter(mdates.DateFormatter('%m-%d'))\n",
    "    ax.xaxis.set_minor_locator(mdates.HourLocator(interval=6))\n",
    "    plt.setp(ax.xaxis.get_majorticklabels(), rotation=45)\n",
    "\n",
    "ax1.set_ylim(0.0, 1.1*max_energy_charge)\n",
    "ax2.set_ylim(0.0, 1.1*max_demand_charge)\n",
    "ax1.set_ylabel('SUM of energy charges ($/kWh)')\n",
    "ax2.set_ylabel('SUM of demand charges ($/kW)')\n",
    "ax1.set_title('Energy variants')\n",
    "ax2.set_title('Demand variants')\n",
    "\n",
    "fig.legend(bbox_to_anchor=(1.01, 0.5), loc='center left', borderaxespad=0.)\n",
    "plt.tight_layout()\n",
    "plt.show()"
   ]
  }
 ],
 "metadata": {
  "kernelspec": {
   "display_name": "watertap-flex",
   "language": "python",
   "name": "python3"
  },
  "language_info": {
   "codemirror_mode": {
    "name": "ipython",
    "version": 3
   },
   "file_extension": ".py",
   "mimetype": "text/x-python",
   "name": "python",
   "nbconvert_exporter": "python",
   "pygments_lexer": "ipython3",
   "version": "3.11.10"
  }
 },
 "nbformat": 4,
 "nbformat_minor": 2
}

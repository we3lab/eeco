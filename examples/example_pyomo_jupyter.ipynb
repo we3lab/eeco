{
 "cells": [
  {
   "cell_type": "code",
   "execution_count": null,
   "metadata": {},
   "outputs": [],
   "source": [
    "import os\n",
    "# Gets the absolute path of the current notebook (works reliably if run inside the notebook itself)\n",
    "notebook_path = os.path.abspath(\"\")\n",
    "# Get the parent directory (one level up)\n",
    "parent_dir = os.path.abspath(os.path.join(notebook_path, \"..\"))\n",
    "# Change working directory to the parent directory\n",
    "os.chdir(parent_dir)\n",
    "\n",
    "# import example model\n",
    "import pyomo.environ as pyo\n",
    "from electric_emission_cost import costs\n",
    "from examples.pyomo_battery_model import BatteryPyomo\n",
    "import numpy as np\n",
    "import pandas as pd\n",
    "from datetime import datetime\n",
    "import matplotlib.pyplot as plt"
   ]
  },
  {
   "cell_type": "markdown",
   "metadata": {},
   "source": [
    "# Pyomo Example"
   ]
  },
  {
   "cell_type": "markdown",
   "metadata": {},
   "source": [
    "### Specify dynamics model"
   ]
  },
  {
   "cell_type": "markdown",
   "metadata": {},
   "source": [
    "Begin by specifying the dynamics model as a pyomo Concrete model. More information about the battery model is contained in `examples/pyomo_battery_model.py`"
   ]
  },
  {
   "cell_type": "code",
   "execution_count": null,
   "metadata": {},
   "outputs": [],
   "source": [
    "# Define the parameters for the battery model\n",
    "battery_params = {\n",
    "    \"start_date\": \"2022-07-01 00:00:00\",\n",
    "    \"end_date\": \"2022-08-01 00:00:00\",\n",
    "    \"timestep\": 0.25,   # 15 minutes defined in hours\n",
    "    \"rte\": 0.86,\n",
    "    \"energycapacity\": 100,\n",
    "    \"powercapacity\": 50,\n",
    "    \"soc_min\": 0.05,\n",
    "    \"soc_max\": 0.95,\n",
    "    \"soc_init\": 0.5,\n",
    "}\n",
    "\n",
    "# Create a sample baseload profile based on a sine wave\n",
    "baseload = np.sin(np.linspace(0, 4 * np.pi, 96))*100 + 1000 + np.random.normal(0, 10, 96)\n",
    "# baseload = np.random.normal(1000, 20, size=96)\n",
    "\n",
    "# Create an instance of the BatteryOpt class\n",
    "battery = BatteryPyomo(battery_params, baseload, baseload_repeat=True)\n",
    "\n",
    "# create the model on the instance battery\n",
    "battery.create_model()"
   ]
  },
  {
   "cell_type": "code",
   "execution_count": null,
   "metadata": {},
   "outputs": [],
   "source": [
    "baseload"
   ]
  },
  {
   "cell_type": "markdown",
   "metadata": {},
   "source": [
    "### Retrieve and add tariffs"
   ]
  },
  {
   "cell_type": "markdown",
   "metadata": {},
   "source": [
    "Retrieve example tariff sheet contained in electric_emission_cost and read it as a dataframe\n"
   ]
  },
  {
   "cell_type": "code",
   "execution_count": null,
   "metadata": {},
   "outputs": [],
   "source": [
    "path_to_tariffsheet = \"electric_emission_cost/data/tariff.csv\"\n",
    "tariff_df = pd.read_csv(path_to_tariffsheet, sep=\",\")\n",
    "tariff_df"
   ]
  },
  {
   "cell_type": "markdown",
   "metadata": {},
   "source": [
    "Using the start and end time within the battery model and the rate dataframe, create a dictionary of charges. \n",
    "\n",
    "*Note: the start and end time must be datetime objects.*"
   ]
  },
  {
   "cell_type": "code",
   "execution_count": null,
   "metadata": {},
   "outputs": [],
   "source": [
    "# get the charge dictionary\n",
    "charge_dict = costs.get_charge_dict(\n",
    "    battery.start_dt, battery.end_dt, tariff_df, resolution=\"15m\"\n",
    ")\n",
    "charge_dict"
   ]
  },
  {
   "cell_type": "code",
   "execution_count": null,
   "metadata": {},
   "outputs": [],
   "source": [
    "# this can also be done in a dataframe format that drops all the unnecessary columns\n",
    "charge_df = costs.get_charge_df(battery.start_dt, battery.end_dt, tariff_df, )\n",
    "charge_df.head()"
   ]
  },
  {
   "cell_type": "markdown",
   "metadata": {},
   "source": [
    "### Add cost rules to model"
   ]
  },
  {
   "cell_type": "markdown",
   "metadata": {},
   "source": [
    "Set up `consumption_data_dict` to track the variable in the model that represents the total power consumption."
   ]
  },
  {
   "cell_type": "code",
   "execution_count": null,
   "metadata": {},
   "outputs": [],
   "source": [
    "# this example tariff only has electric utility types so we do not pass the gas key\n",
    "consumption_data_dict = {\"electric\": battery.model.net_facility_load}"
   ]
  },
  {
   "cell_type": "markdown",
   "metadata": {},
   "source": [
    "Using the baseline consumption and the rules of the rate structure, the package will find the charge categories that are relevant for the simulation time frame. It will also automatically build constraints to calculate electricity cost."
   ]
  },
  {
   "cell_type": "code",
   "execution_count": null,
   "metadata": {},
   "outputs": [],
   "source": [
    "# monthly total consumption - divided by 4 because of 15-min resolution\n",
    "consumption_estimate = sum(baseload) / 4\n",
    "battery.model.electricity_cost, battery.model = costs.calculate_cost(\n",
    "    charge_dict,\n",
    "    consumption_data_dict,\n",
    "    resolution=\"15m\",\n",
    "    prev_demand_dict=None,\n",
    "    prev_consumption_dict=None,\n",
    "    consumption_estimate=consumption_estimate,\n",
    "    desired_utility=\"electric\",\n",
    "    desired_charge_type=None,\n",
    "    model=battery.model,\n",
    ")"
   ]
  },
  {
   "cell_type": "markdown",
   "metadata": {},
   "source": [
    "### Create the objective on the model and solve"
   ]
  },
  {
   "cell_type": "code",
   "execution_count": null,
   "metadata": {},
   "outputs": [],
   "source": [
    "# create an attribute objective based on the electricity cost\n",
    "battery.model.objective = pyo.Objective(\n",
    "    expr=battery.model.electricity_cost,\n",
    "    sense=pyo.minimize,\n",
    ")"
   ]
  },
  {
   "cell_type": "code",
   "execution_count": null,
   "metadata": {},
   "outputs": [],
   "source": [
    "# use the glpk solver to solve the model - (any pyomo-supported LP solver will work here)\n",
    "solver = pyo.SolverFactory(\"glpk\")\n",
    "results = solver.solve(battery.model, tee=False) # turn tee=True to see solver output"
   ]
  },
  {
   "cell_type": "markdown",
   "metadata": {},
   "source": [
    "### Visualize Output"
   ]
  },
  {
   "cell_type": "markdown",
   "metadata": {},
   "source": [
    "Visualize charge arrays"
   ]
  },
  {
   "cell_type": "code",
   "execution_count": null,
   "metadata": {},
   "outputs": [],
   "source": [
    "# create a subset of the charge_df for energy and demand charges\n",
    "energy_charge_df = charge_df.filter(like=\"energy\")\n",
    "demand_charge_df = charge_df.filter(like=\"demand\")\n",
    "\n",
    "# sum across all energy charges\n",
    "total_energy_charge = energy_charge_df.sum(axis=1)"
   ]
  },
  {
   "cell_type": "code",
   "execution_count": null,
   "metadata": {},
   "outputs": [],
   "source": [
    "# plot \n",
    "import matplotlib.pyplot as plt\n",
    "fig, ax = plt.subplots(2, 1, figsize=(10, 8))\n",
    "# plot the energy charges\n",
    "ax[0].plot(charge_df[\"DateTime\"], total_energy_charge)\n",
    "ax[0].set(xlabel=\"DateTime\", ylabel=\"Energy Charge ($/kWh)\", xlim=(battery.start_dt, battery.end_dt))\n",
    "\n",
    "# plot the demand charges\n",
    "ax[1].plot(charge_df[\"DateTime\"], demand_charge_df)\n",
    "ax[1].set(xlabel=\"DateTime\", ylabel=\"Demand Charge ($/kWh)\", xlim=(battery.start_dt, battery.end_dt), ylim=[0,None])\n",
    "\n",
    "fig.align_ylabels()\n",
    "fig.tight_layout()\n",
    "fig.suptitle(\"Electricity Charges\",y=1.02, fontsize=16)\n",
    "plt.show()\n"
   ]
  },
  {
   "cell_type": "markdown",
   "metadata": {},
   "source": [
    "Visualize model outputs"
   ]
  },
  {
   "cell_type": "code",
   "execution_count": null,
   "metadata": {},
   "outputs": [],
   "source": [
    "net_load = np.array([battery.model.net_facility_load[t].value for t in battery.model.t])\n",
    "baseload = np.array([battery.model.baseload[t] for t in battery.model.t])\n",
    "\n",
    "fig, ax = plt.subplots()\n",
    "ax.step(charge_df[\"DateTime\"], net_load, color=\"C0\", lw=2, label=\"Net Load\")\n",
    "ax.step(charge_df[\"DateTime\"], baseload, color=\"k\", lw=1, ls='--', label=\"Baseload\")\n",
    "ax.set(xlabel=\"DateTime\", ylabel=\"Power (kW)\", xlim=(battery.start_dt, battery.end_dt))\n",
    "plt.xticks(rotation=45)\n",
    "fig.tight_layout()\n",
    "plt.legend()"
   ]
  },
  {
   "cell_type": "code",
   "execution_count": null,
   "metadata": {},
   "outputs": [],
   "source": [
    "# plot the battery charge\n",
    "battery_charge = np.array([battery.model.soc[t].value for t in battery.model.t])\n",
    "fig, ax = plt.subplots()\n",
    "ax.step(charge_df[\"DateTime\"], battery_charge, color=\"C1\", lw=2, label=\"Battery SOC\")\n",
    "ax.set(xlabel=\"Time\", ylabel=\"Battery SOC [%]\", ylim=[0,1], xlim=(battery.start_dt, battery.end_dt))\n",
    "plt.xticks(rotation=45)\n",
    "fig.tight_layout()"
   ]
  },
  {
   "cell_type": "markdown",
   "metadata": {},
   "source": [
    "We can also just pass the numpy arrays to calculate costs to get total cost without a model or any optimization. "
   ]
  },
  {
   "cell_type": "code",
   "execution_count": null,
   "metadata": {},
   "outputs": [],
   "source": [
    "# pass numpy arrays for baseload and net_load (with battery) to the calculate_cost function\n",
    "baseline_electricity_cost, _ = costs.calculate_cost(charge_dict = charge_dict,\n",
    "                                consumption_data_dict = {\"electric\": baseload},\n",
    "                                resolution=\"15m\",\n",
    "                                prev_demand_dict=None,\n",
    "                                prev_consumption_dict=None,\n",
    "                                consumption_estimate=0,\n",
    "                                desired_utility=\"electric\",\n",
    "                                desired_charge_type=None,\n",
    "                                model=None)\n",
    "\n",
    "optimized_electricity_cost, _ = costs.calculate_cost(charge_dict = charge_dict,\n",
    "                                consumption_data_dict = {\"electric\": net_load},\n",
    "                                resolution=\"15m\",\n",
    "                                prev_demand_dict=None,\n",
    "                                prev_consumption_dict=None,\n",
    "                                consumption_estimate=0,\n",
    "                                desired_utility=\"electric\",\n",
    "                                desired_charge_type=None,\n",
    "                                model=None)\n",
    "\n",
    "print(f\"Baseline Electricity Cost: ${baseline_electricity_cost:.2f}\")\n",
    "print(f\"Optimized Electricity Cost: ${optimized_electricity_cost:.2f}\")\n"
   ]
  },
  {
   "cell_type": "code",
   "execution_count": null,
   "metadata": {},
   "outputs": [],
   "source": [
    "# create a subset of the charge_df for energy and demand charges\n",
    "charge_df = costs.get_charge_df(datetime(2023, 4, 9), datetime(2023, 4, 11), tariff_df)\n",
    "charge_df.head()\n",
    "\n",
    "energy_charge_df = charge_df.filter(like=\"energy\")\n",
    "demand_charge_df = charge_df.filter(like=\"demand\")\n",
    "\n",
    "# sum across all energy charges\n",
    "total_energy_charge = energy_charge_df.sum(axis=1)\n",
    "\n",
    "fig, ax = plt.subplots(2, 1, figsize=(10, 8))\n",
    "# plot the energy charges\n",
    "ax[0].plot(charge_df[\"DateTime\"], total_energy_charge)\n",
    "ax[0].set(xlabel=\"DateTime\", ylabel=\"Energy Charge ($/kWh)\", xlim=(datetime(2023, 4, 9), datetime(2023, 4, 11)))\n",
    "\n",
    "# plot the demand charges\n",
    "ax[1].plot(charge_df[\"DateTime\"], demand_charge_df)\n",
    "ax[1].set(xlabel=\"DateTime\", ylabel=\"Demand Charge ($/kWh)\", xlim=(datetime(2023, 4, 9), datetime(2023, 4, 11)), ylim=[0,None])\n",
    "\n",
    "fig.align_ylabels()\n",
    "fig.tight_layout()\n",
    "fig.suptitle(\"Electricity Charges\",y=1.02, fontsize=16)\n",
    "plt.show()"
   ]
  },
  {
   "cell_type": "code",
   "execution_count": null,
   "metadata": {},
   "outputs": [],
   "source": []
  }
 ],
 "metadata": {
  "kernelspec": {
   "display_name": "watertap-flex",
   "language": "python",
   "name": "python3"
  },
  "language_info": {
   "codemirror_mode": {
    "name": "ipython",
    "version": 3
   },
   "file_extension": ".py",
   "mimetype": "text/x-python",
   "name": "python",
   "nbconvert_exporter": "python",
   "pygments_lexer": "ipython3",
   "version": "3.11.10"
  }
 },
 "nbformat": 4,
 "nbformat_minor": 2
}
